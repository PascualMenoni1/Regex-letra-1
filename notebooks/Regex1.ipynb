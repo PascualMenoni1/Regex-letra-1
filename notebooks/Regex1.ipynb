{
 "cells": [
  {
   "cell_type": "code",
   "execution_count": null,
   "id": "3ba53a59-09f1-4738-8fc3-31c602b7ba4e",
   "metadata": {},
   "outputs": [],
   "source": [
    "import re\n",
    "import os\n",
    "file_path = os.path.join(\"data\", \"baby2006.html\")\n",
    "with open(file_path, encoding=\"utf-8\") as f:\n",
    "    txt = f.read()\n",
    "\n",
    "# Tarea 1: Encontrar el año\n",
    "year = re.search(r'Popularity\\sin\\s(\\d{4})', txt).group(1)\n",
    "print(\"Año:\", year)\n",
    "\n",
    "# Tarea 2: Extraer Nombres y Ranking\n",
    "matches = [(nombre.strip(), rank) \n",
    "           for rank, boy, girl in re.findall(r'<tr><td>(\\d+)</td><td>([^<]+)</td><td>([^<]+)</td>', txt)\n",
    "           for nombre in (boy, girl)]\n",
    "\n",
    "print(\"Primeros 10 nombres y rankings:\", matches[:10])\n",
    "\n",
    "# Tarea 3: Guardar en un Diccionario\n",
    "dic = {}\n",
    "for nombre, rank in matches:\n",
    "    if nombre not in dic:  # solo la primera aparición\n",
    "        dic[nombre] = rank\n",
    "\n",
    "print(\"Diccionario ejemplo:\", list(dic.items())[:10])\n",
    "\n",
    "# Tarea 4: Lista de Nombres Ordenada\n",
    "nombres = sorted(dic)\n",
    "print(\"Nombres ejemplo:\", nombres[:10])\n",
    "\n",
    "# Tarea 5: Formatear la Salida Final\n",
    "final = [year] + [f\"{n} - {dic[n]}\" for n in nombres]\n",
    "print(\"Salida final ejemplo:\", final[:10])"
   ]
  }
 ],
 "metadata": {
  "kernelspec": {
   "display_name": "Python [conda env:base] *",
   "language": "python",
   "name": "conda-base-py"
  },
  "language_info": {
   "codemirror_mode": {
    "name": "ipython",
    "version": 3
   },
   "file_extension": ".py",
   "mimetype": "text/x-python",
   "name": "python",
   "nbconvert_exporter": "python",
   "pygments_lexer": "ipython3",
   "version": "3.12.7"
  }
 },
 "nbformat": 4,
 "nbformat_minor": 5
}
